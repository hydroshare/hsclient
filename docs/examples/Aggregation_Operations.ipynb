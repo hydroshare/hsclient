{
 "cells": [
  {
   "cell_type": "markdown",
   "source": [
    "# hsclient HydroShare Python Client Resource Aggregation Operation Examples\n",
    "\n",
    "\n",
    "---\n",
    "\n",
    "\n",
    "The following code snippets show examples for how to use the hsclient HydroShare Python Client to manipulate aggregations of known content types in HydroShare. HydroShare's content type aggregations include individual file, fileset, time series, geographic feature, geographic raster, and multidimensional NetCDF."
   ],
   "metadata": {
    "collapsed": false
   }
  },
  {
   "cell_type": "markdown",
   "source": [
    "## Install the hsclient Python Client\n",
    "\n",
    "The hsclient Python Client for HydroShare may not be installed by default in your Python environment, so it has to be installed first before you can work with it. Use the following command to install hsclient via the Python Package Index (PyPi)."
   ],
   "metadata": {
    "collapsed": false
   }
  },
  {
   "cell_type": "code",
   "execution_count": null,
   "metadata": {
    "id": "hzriLgMl0oJ2"
   },
   "outputs": [],
   "source": [
    "!pip install hsclient"
   ]
  },
  {
   "cell_type": "markdown",
   "source": [
    "## Authenticating with HydroShare\n",
    "\n",
    "Before you start interacting with resources in HydroShare you will need to authenticate."
   ],
   "metadata": {
    "collapsed": false
   }
  },
  {
   "cell_type": "code",
   "execution_count": null,
   "metadata": {
    "id": "3njsiY73m7_V"
   },
   "outputs": [],
   "source": [
    "from hsclient import HydroShare\n",
    "\n",
    "hs = HydroShare()\n",
    "hs.sign_in()"
   ]
  },
  {
   "cell_type": "markdown",
   "source": [
    "## Create a New Empty Resource\n",
    "\n",
    "A \"resource\" is a container for your content in HydroShare. Think of it as a \"working directory\" into which you are going to organize the code and/or data you are using and want to share. The following code can be used to create a new, empty resource within which you can create content and metadata.\n",
    "\n",
    "This code creates a new resource in HydroShare. It also creates an in-memory object representation of that resource in your local environment that you can then manipulate with further code."
   ],
   "metadata": {
    "collapsed": false
   }
  },
  {
   "cell_type": "code",
   "execution_count": null,
   "metadata": {
    "id": "W9azvJ_Co87w"
   },
   "outputs": [],
   "source": [
    "# Create the new, empty resource\n",
    "new_resource = hs.create()\n",
    "\n",
    "# Get the HydroShare identifier for the new resource\n",
    "res_identifier = new_resource.resource_id\n",
    "print(f'The HydroShare Identifier for your new resource is: {res_identifier}')\n",
    "\n",
    "# Construct a hyperlink for the new resource\n",
    "print(f'Your new resource is available at: {new_resource.metadata.url}')"
   ]
  },
  {
   "cell_type": "markdown",
   "source": [
    "## Resource Aggregation Handling\n",
    "\n",
    "HydroShare allows you to create and manage aggregations of content files within resources that have specific types and associated metadata. These known content types include:\n",
    "\n",
    "* Time series\n",
    "* Geographic feature\n",
    "* Geographic raster\n",
    "* Multidimensional NetCDF\n",
    "* Single file\n",
    "* File set\n",
    "\n",
    "The general process for creating an aggregation within a resource requires adding files to the resource and then applying the appropriate aggregation type. For some of the aggregation types, some of the aggregation metadata fields will be automatically extracted from the files you upload. You can then set the values of the other aggregation-level metadata elements. "
   ],
   "metadata": {
    "collapsed": false
   }
  },
  {
   "cell_type": "markdown",
   "source": [
    "## Create a Single File Aggregation\n",
    "\n",
    "A single file aggregation in a HydroShare is any individual file to which you want to add extra metadata. "
   ],
   "metadata": {
    "collapsed": false
   }
  },
  {
   "cell_type": "code",
   "execution_count": null,
   "metadata": {
    "id": "sCvGL4g-PGXS"
   },
   "outputs": [],
   "source": [
    "# Import the aggregation types\n",
    "from hsmodels.schemas.enums import AggregationType\n",
    "\n",
    "# Upload a single content file to the resource. This is a generic sample comma separated\n",
    "# values (CSV) data file with some tabular data\n",
    "new_resource.file_upload('Example_Files/Data_File1.csv')\n",
    "\n",
    "# Specify the file you want to add the aggregation to\n",
    "file = new_resource.file(path='Data_File1.csv')\n",
    "\n",
    "# Create a single file aggregation on the file and refresh the resource\n",
    "agg = new_resource.file_aggregate(file, AggregationType.SingleFileAggregation)\n",
    "\n",
    "# Print the title for the aggregation that was added to the resource\n",
    "print(f'The following aggregation was added to the resource: {agg.metadata.title}')\n",
    "print(f'Aggregation type: {agg.metadata.type}')"
   ]
  },
  {
   "cell_type": "markdown",
   "source": [
    "### Add Metadata to the Aggregation\n",
    "\n",
    "Once you have created an aggregation, you can edit and add metadata elements. For a single file aggregation, you can add a title, subject keywords, extended metadata as key-value pairs, and spatial and temporal coverage. \n",
    "\n",
    "All of the metadata edits are stored locally until you call the `save()` function on the aggregation to write the edits you have made to HydroShare."
   ],
   "metadata": {
    "collapsed": false
   }
  },
  {
   "cell_type": "markdown",
   "source": [
    "#### Title and Keywords\n",
    "\n",
    "The title of an aggregation is a string. Subject keywords are handled as a list of strings."
   ],
   "metadata": {
    "collapsed": false
   }
  },
  {
   "cell_type": "code",
   "execution_count": null,
   "metadata": {},
   "outputs": [],
   "source": [
    "# Set the title and subject keywords for the aggregation\n",
    "agg.metadata.title = 'A CSV Data File Single File Aggregation'\n",
    "agg.metadata.subjects = ['CSV', 'Aggregation', 'Single File', 'Data']\n",
    "\n",
    "# Print the title and keywords for the aggregation\n",
    "print(f'Aggregation Title: {agg.metadata.title}')\n",
    "print(f'Aggregation Keywords: {\", \".join(agg.metadata.subjects)}')\n",
    "\n",
    "# Save the aggregation to write the metadata to HydroShare\n",
    "agg.save()"
   ]
  },
  {
   "cell_type": "markdown",
   "source": [
    "#### Extended Metadata Elements\n",
    "\n",
    "Extended metadata elements for an aggregation are handled using a Python dictionary. You can add new elements using key-value pairs."
   ],
   "metadata": {
    "collapsed": false
   }
  },
  {
   "cell_type": "code",
   "execution_count": null,
   "metadata": {},
   "outputs": [],
   "source": [
    "# Add an extended metadata element to the aggregation as a key-value pair\n",
    "agg.metadata.additional_metadata['New Element Key'] = 'Text value of new element.'\n",
    "\n",
    "# Remove an individual key-value pair from the aggregation using its key\n",
    "del agg.metadata.additional_metadata['New Element Key']\n",
    "\n",
    "# Or, you can clear out all extended metadata elements that might exist\n",
    "agg.metadata.additional_metadata.clear()\n",
    "\n",
    "# Add multiple key-value pairs to the aggregation at once using a Python dictionary\n",
    "agg.metadata.additional_metadata = {\n",
    "    'Observed Variable': 'Water use',\n",
    "    'Site Location': 'Valley View Tower Dormitory on Utah State University\\'s Campus in Logan, UT'\n",
    "}\n",
    "\n",
    "# Print the extended metadata elements\n",
    "print('The extended metadata elements for the aggregation include:')\n",
    "for key, value in agg.metadata.additional_metadata.items():\n",
    "    print(key + ':', value)\n",
    "\n",
    "# Save the aggregation to write the metadata to HydroShare\n",
    "agg.save()"
   ]
  },
  {
   "cell_type": "markdown",
   "source": [
    "#### Spatial and Temporal Coverage\n",
    "\n",
    "Spatial and temporal coverage for an aggregation are handled in the same way they are handled for resource level metadata. Initially the spatial and temporal coverage for an aggregation are empty. To set them, you have to create a coverage object of the right type and set the spatial or temporal coverage to that object."
   ],
   "metadata": {
    "collapsed": false
   }
  },
  {
   "cell_type": "code",
   "execution_count": null,
   "metadata": {},
   "outputs": [],
   "source": [
    "# Import the required metadata classes for coverage objects\n",
    "from hsmodels.schemas.fields import BoxCoverage, PointCoverage, PeriodCoverage\n",
    "from datetime import datetime\n",
    "\n",
    "# Set the spatial coverage of the aggregation to a BoxCoverage object\n",
    "agg.metadata.spatial_coverage = BoxCoverage(name='Logan, Utah',\n",
    "                                            northlimit=41.7910,\n",
    "                                            eastlimit=-111.7664,\n",
    "                                            southlimit=41.6732,\n",
    "                                            westlimit=-111.9079,\n",
    "                                            projection='WGS 84 EPSG:4326',\n",
    "                                            type='box',\n",
    "                                            units='Decimal degrees')\n",
    "\n",
    "# You can remove the spatial coverage element by setting it to None\n",
    "agg.metadata.spatial_coverage = None\n",
    "\n",
    "# If you want to set the spatial coverage to a PointCoverage instead\n",
    "agg.metadata.spatial_coverage = PointCoverage(name='Logan, Utah',\n",
    "                                              north=41.7371,\n",
    "                                              east=-111.8351,\n",
    "                                              projection='WGS 84 EPSG:4326',\n",
    "                                              type='point',\n",
    "                                              units='Decimal degrees')\n",
    "\n",
    "# Create a beginning and ending date for a time period\n",
    "beginDate = datetime.strptime('2020-12-01T00:00:00Z', '%Y-%m-%dT%H:%M:%S%fZ')\n",
    "endDate = datetime.strptime('2020-12-31T00:00:00Z', '%Y-%m-%dT%H:%M:%S%fZ')\n",
    "\n",
    "# Set the temporal coverage of the aggregation to a PeriodCoverage object\n",
    "agg.metadata.period_coverage = PeriodCoverage(start=beginDate, end=endDate)\n",
    "\n",
    "# Print the temporal coverage information\n",
    "print('Temporal Coverage:')\n",
    "print(agg.metadata.period_coverage)\n",
    "\n",
    "# Print the spatial coverage information\n",
    "print('\\nSpatial Coverage:')\n",
    "print(agg.metadata.spatial_coverage)\n",
    "\n",
    "# Save the aggregation to write the metadata to HydroShare\n",
    "agg.save()"
   ]
  },
  {
   "cell_type": "markdown",
   "source": [
    "## Creating Other Aggregation Types"
   ],
   "metadata": {
    "collapsed": false
   }
  },
  {
   "cell_type": "markdown",
   "source": [
    "### Geographic Feature Aggregation\n",
    "\n",
    "Geographic feature aggregations are created in HydroShare from the set of files that make up an ESRI Shapefile. You need to upload the shapefile and then HydroShare will automatically set the aggregation on the set of files you upload. You can then retrieve the aggregation using its title or by searching for one of the files it contains."
   ],
   "metadata": {
    "collapsed": false
   }
  },
  {
   "cell_type": "code",
   "execution_count": null,
   "metadata": {},
   "outputs": [],
   "source": [
    "# Create a list of the files that make up the shapefile to be uploaded\n",
    "file_list = ['Example_Files/watersheds.cpg', 'Example_Files/watersheds.dbf',\n",
    "             'Example_Files/watersheds.prj', 'Example_Files/watersheds.sbn',\n",
    "             'Example_Files/watersheds.sbx', 'Example_Files/watersheds.shp',\n",
    "             'Example_Files/watersheds.shx', 'Example_Files/watersheds.shp.xml']\n",
    "\n",
    "# Upload the files to the resource all at the same time\n",
    "new_resource.file_upload(*file_list)\n",
    "\n",
    "print('Files uploaded!')"
   ]
  },
  {
   "cell_type": "markdown",
   "source": [
    "If you upload all of the files of a shapefile together as shown above, HydroShare automatically recognizes the files as a shapefile and auto-aggregates the files into a geographic feature aggregation for you. So, you then just need to get the aggregation that was created if you want to further operate on it - e.g., to modify the aggregation-level metadata.\n",
    "\n",
    "Metadata for a geographic feature aggregation includes a title, subject keywords, extended key-value pairs, temporal coverage, spatial coverage, geometry information, spatial reference, and attribute field information. When HydroShare creates the aggregation on the shapefile, the spatial coverage, geometry information, spatial reference, and attribute field information metadata will be automatically set for you. You can then set all of the other metadata elements as shown above for the single file aggregation if you need to."
   ],
   "metadata": {
    "collapsed": false
   }
  },
  {
   "cell_type": "code",
   "execution_count": null,
   "metadata": {},
   "outputs": [],
   "source": [
    "# Get the aggregation that was just created\n",
    "\n",
    "# You can get the aggregation by searching for a file that is inside of it\n",
    "agg = new_resource.aggregation(file__name='watersheds.shp')\n",
    "\n",
    "# Or, you can get the aggregation by searching for its title, which is initially\n",
    "# set to the name of the shapefile\n",
    "agg = new_resource.aggregation(title='watersheds')\n",
    "\n",
    "# Print the title for the aggregation that was added to the resource\n",
    "print(f'The following aggregation was added to the resource: {agg.metadata.title}')\n",
    "print(f'Aggregation type: {agg.metadata.type}')"
   ]
  },
  {
   "cell_type": "markdown",
   "source": [
    "### Geographic Raster Aggregation\n",
    "\n",
    "Geographic raster aggregations are created in HydroShare from one or more raster data files that make up a raster dataset. HydroShare uses GeoTiff files for raster datasets. Like the geographic feature aggregation, when you upload all of the files for a geographic raster dataset (all .tif and a .vrt file) at once, HydroShare will automatically create the aggregation for you. You can then get the aggregation and set the other metadata elements as shown above for the single file aggregation.\n",
    "\n",
    "HydroShare initially sets the title of the geographic raster aggregation to the first .tif file that appears in the .vrt file. The spatial coverage, spatial reference, and cell information are set automatically based on information extracted from the dataset. "
   ],
   "metadata": {
    "collapsed": false
   }
  },
  {
   "cell_type": "code",
   "execution_count": null,
   "metadata": {},
   "outputs": [],
   "source": [
    "# Upload the files making up the raster dataset to the resource\n",
    "file_list = ['Example_Files/logan1.tif', 'Example_Files/logan2.tif', 'Example_Files/logan.vrt']\n",
    "new_resource.file_upload(*file_list)\n",
    "\n",
    "# Get the aggregation that was just created - initially the title will be \"logan1\"\n",
    "# based on the name of the first .tif file that appears in the .vrt file\n",
    "agg = new_resource.aggregation(title='logan1')\n",
    "\n",
    "# Print the title for the aggregation that was added to the resource\n",
    "print(f'The following aggregation was added to the resource: {agg.metadata.title}')\n",
    "print(f'Aggregation type: {agg.metadata.type}')"
   ]
  },
  {
   "cell_type": "markdown",
   "source": [
    "### Multidimensional NetCDF Aggregation\n",
    "\n",
    "Multidimensional aggregations are created in HydroShare from a NetCDF file. Like the other aggregation types, you can upload the NetCDF file and HydroShare will automatically create the aggregation for you. HydroShare also automatically extracts metadata from the NetCDF file to populate the aggregation metadata. Some of this metadata may get propagated to the resource level if you haven't set things like the title and keywords. You can then get the aggregation and set the other metadata elements as shown above for the single file aggregation."
   ],
   "metadata": {
    "collapsed": false
   }
  },
  {
   "cell_type": "code",
   "execution_count": null,
   "metadata": {},
   "outputs": [],
   "source": [
    "# Upload the NetCDF file to the resource\n",
    "new_resource.file_upload('Example_Files/SWE_time.nc')\n",
    "\n",
    "# Get the aggregation by searching for the NetCDF file that is inside of it\n",
    "agg = new_resource.aggregation(file__name='SWE_time.nc')\n",
    "\n",
    "# Print the title for the aggregation that was added to the resource\n",
    "print(f'The following aggregation was added to the resource: {agg.metadata.title}')\n",
    "print(f'Aggregation type: {agg.metadata.type}')"
   ]
  },
  {
   "cell_type": "markdown",
   "source": [
    "### Time Series Aggregation\n",
    "\n",
    "Time series aggregations are created in HydroShare from an ODM2 SQLite database file. The ODM2 SQLite database contain one or more time series "
   ],
   "metadata": {
    "collapsed": false
   }
  },
  {
   "cell_type": "code",
   "execution_count": null,
   "metadata": {},
   "outputs": [],
   "source": [
    "# Upload the SQLite file to the resource\n",
    "new_resource.file_upload('Example_Files/ODM2.sqlite')\n",
    "\n",
    "# Get the aggregation by searching for the SQLite file that is inside of it\n",
    "agg = new_resource.aggregation(file__name='ODM2.sqlite')\n",
    "\n",
    "# Print the title for the aggregation that was added to the resource\n",
    "print(f'The following aggregation was added to the resource: {agg.metadata.title}')\n",
    "print(f'Aggregation type: {agg.metadata.type}')"
   ]
  },
  {
   "cell_type": "markdown",
   "source": [
    "### File Set Aggregation\n",
    "\n",
    "A file set aggregation is any folder within a resource to which you want to add metadata. If you want to create a file set aggregation, you first have to create a folder, then upload files to it. After that, you can set the aggregation on the folder."
   ],
   "metadata": {
    "collapsed": false
   }
  },
  {
   "cell_type": "code",
   "execution_count": null,
   "metadata": {},
   "outputs": [],
   "source": [
    "# Create a new folder for the file set aggregation\n",
    "new_resource.folder_create('Fileset_Aggregation')\n",
    "\n",
    "# Add some files to the folder\n",
    "new_resource.file_upload('Example_Files/Data_File1.csv', 'Example_Files/Data_File2.csv',\n",
    "                         destination_path='Fileset_Aggregation')\n",
    "\n",
    "# TODO: How to set a fileset aggregation on a folder containing files?"
   ]
  },
  {
   "cell_type": "markdown",
   "source": [
    "## Get Aggregation Properties\n",
    "\n",
    "Each aggregation in a resource has metadata properties associated with it. You can query/retrieve those properties for display. The following shows an example for the time series aggregation that was created above."
   ],
   "metadata": {
    "collapsed": false
   }
  },
  {
   "cell_type": "code",
   "execution_count": null,
   "metadata": {},
   "outputs": [],
   "source": [
    "# Get the time series aggregation that was created above\n",
    "agg = new_resource.aggregation(type='TimeSeries')\n",
    "\n",
    "# Print the metadata associated with the aggregation\n",
    "print(f'Aggregation Title: {agg.metadata.title}')\n",
    "print(f'Aggregation Type: {agg.metadata.type}')\n",
    "print(f'Aggregation Keywords: {\", \".join(agg.metadata.subjects)}')\n",
    "print(f'Aggregation Temporal Coverage: {agg.metadata.period_coverage}')\n",
    "print(f'Aggregation Spatial Coverage: {agg.metadata.spatial_coverage}')\n",
    "\n",
    "# Print the list of files in the aggregation\n",
    "file_list = agg.files()\n",
    "print('List of files contained within the aggregation:')\n",
    "print(*file_list, sep='\\n')"
   ]
  },
  {
   "cell_type": "markdown",
   "metadata": {},
   "source": [
    "## Searching for Aggregations within a Resource\n",
    "\n",
    "If you need to find/get one or more aggregations within a resource so you can download or remove it from the resource, there are several filters available that allow you to return a list of aggregations that meet your search criteria."
   ]
  },
  {
   "cell_type": "code",
   "execution_count": null,
   "metadata": {},
   "outputs": [],
   "source": [
    "# Get the list of all aggregations in the resource\n",
    "aggregations = new_resource.aggregations()\n",
    "\n",
    "# Get a list of all aggregations of a particular type\n",
    "aggregations = new_resource.aggregations(type=\"TimeSeries\")\n",
    " \n",
    "# Get a list of aggregations with extended metadata searching by key\n",
    "aggregations = new_resource.aggregations(additional_metadata__key=\"Observed Variable\")\n",
    " \n",
    "# Get a list of aggregations with extended metadata searching by value\n",
    "aggregations = new_resource.aggregations(additional_metadata__value=\"Water Use\")\n",
    " \n",
    "# Get a list of aggregations with a subject keyword searching by value\n",
    "aggregations = new_resource.aggregations(subjects__contains=\"Temperature\")\n",
    " \n",
    "# Get a list of aggregations searching by title (or any metadata attribute)\n",
    "aggregations = new_resource.aggregations(title=\"watersheds\")\n",
    " \n",
    "# Get a list of aggregations searching by a nested metadata attribute (__)\n",
    "aggregations = new_resource.aggregations(period_coverage__name=\"period_coverage name\")\n",
    " \n",
    "# Get a list of aggregations by combining field searching, filtered with \"AND\"\n",
    "aggregations = new_resource.aggregations(period_coverage__name=\"period_coverage name\", title=\"watersheds\")"
   ]
  },
  {
   "cell_type": "markdown",
   "metadata": {},
   "source": [
    "You can also search for individual aggregations within a resource."
   ]
  },
  {
   "cell_type": "code",
   "execution_count": null,
   "metadata": {},
   "outputs": [],
   "source": [
    "# Search for an aggregation of type time series\n",
    "aggregation = new_resource.aggregation(type=\"TimeSeries\")\n",
    "\n",
    "# Search for an aggregation with a specific title\n",
    "aggregation = new_resource.aggregation(title=\"watersheds\")\n",
    "\n",
    "# Search for an aggregation that contains a particular file name\n",
    "aggregation = new_resource.aggregation(file__name=\"ODM2.sqlite\")"
   ]
  },
  {
   "cell_type": "markdown",
   "metadata": {
    "id": "pA-hHbeDKJHk"
   },
   "source": [
    "## Downloading an Aggregation\n",
    "\n",
    "When working with a resource, you may want to download one of the aggregations contained within the resource. If you want to download it to a particular location on your disk, you can pass a path to the location where you want the aggregation to be saved to the `download()` function as a string. Aggregations are downloaded as a zipped file containing the aggregation content and metadata files."
   ]
  },
  {
   "cell_type": "code",
   "execution_count": null,
   "metadata": {
    "id": "n1FGhvLfJ6Gz"
   },
   "outputs": [],
   "source": [
    "# Get the geographic feature aggregation that was created above\n",
    "agg = new_resource.aggregation(title=\"watersheds\")\n",
    "\n",
    "# Download the aggregation\n",
    "new_resource.aggregation_download(agg)"
   ]
  },
  {
   "cell_type": "markdown",
   "metadata": {
    "id": "vrLaW5dXI6x5"
   },
   "source": [
    "Clean up the zippled aggregation file that was just downloaded."
   ]
  },
  {
   "cell_type": "code",
   "execution_count": null,
   "metadata": {
    "id": "8daPuEdhI7hV"
   },
   "outputs": [],
   "source": [
    "!rm 'watersheds.shp.zip'"
   ]
  },
  {
   "cell_type": "markdown",
   "metadata": {
    "id": "5rqEkMYoQGmB"
   },
   "source": [
    "## Remove and Delete an Aggregation\n",
    "\n",
    "You may wish to remove an aggregation from a resource. There are two functions you can use to do this. The difference between the two is whether the aggregation's content files are preserved in the resource or deleted. To remove the aggregation-specific metadata and associations while maintaining the content files, call the `remove()` function on the aggregation."
   ]
  },
  {
   "cell_type": "code",
   "execution_count": null,
   "metadata": {
    "id": "gwZmuLW-FLcZ"
   },
   "outputs": [],
   "source": [
    "# Get the geographic raster aggregation that was created above\n",
    "agg = new_resource.aggregation(title=\"logan1\")\n",
    "\n",
    "# Remove the aggregation and delete its metadata, but leave the file(s)\n",
    "new_resource.aggregation_remove(agg)"
   ]
  },
  {
   "cell_type": "markdown",
   "metadata": {
    "id": "LLjrAE6CHjJm"
   },
   "source": [
    "If you want to delete the aggregation, including its metadata and the associated content files, you can call the `delete()` function on the aggregation. Once you have called the `remove()` function on an aggregation, the `delete()` function will no longer work and you will have to delete the files individually."
   ]
  },
  {
   "cell_type": "code",
   "execution_count": null,
   "metadata": {
    "id": "1pVadpiFQSRo"
   },
   "outputs": [],
   "source": [
    "# Get the multidimensional NetCDF aggregation that was created above\n",
    "agg = new_resource.aggregation(type=\"NetCDF\")\n",
    "\n",
    "# Delete the aggregation and metadata along with files within aggregation\n",
    "new_resource.aggregation_delete(agg)"
   ]
  }
 ],
 "metadata": {
  "colab": {
   "collapsed_sections": [],
   "name": "HS_RDF_Examples.ipynb",
   "provenance": [],
   "toc_visible": true
  },
  "kernelspec": {
   "name": "python3",
   "language": "python",
   "display_name": "Python 3"
  },
  "language_info": {
   "codemirror_mode": {
    "name": "ipython",
    "version": 3
   },
   "file_extension": ".py",
   "mimetype": "text/x-python",
   "name": "python",
   "nbconvert_exporter": "python",
   "pygments_lexer": "ipython3",
   "version": "3.7.3"
  }
 },
 "nbformat": 4,
 "nbformat_minor": 4
}
